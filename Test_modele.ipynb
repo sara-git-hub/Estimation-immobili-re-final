{
 "cells": [
  {
   "cell_type": "markdown",
   "id": "d3986d2b",
   "metadata": {},
   "source": [
    "# Test du modèle final"
   ]
  },
  {
   "cell_type": "code",
   "execution_count": 331,
   "id": "77c2073c",
   "metadata": {},
   "outputs": [],
   "source": [
    "import streamlit as st\n",
    "import joblib\n",
    "import pandas as pd\n",
    "import numpy as np"
   ]
  },
  {
   "cell_type": "code",
   "execution_count": 332,
   "id": "74aa4633",
   "metadata": {},
   "outputs": [],
   "source": [
    "import psycopg2\n",
    "from psycopg2 import sql\n",
    "from dotenv import load_dotenv\n",
    "from sqlalchemy import create_engine\n",
    "import os"
   ]
  },
  {
   "cell_type": "code",
   "execution_count": 333,
   "id": "d12518e7",
   "metadata": {},
   "outputs": [
    {
     "data": {
      "text/plain": [
       "True"
      ]
     },
     "execution_count": 333,
     "metadata": {},
     "output_type": "execute_result"
    }
   ],
   "source": [
    "load_dotenv()"
   ]
  },
  {
   "cell_type": "code",
   "execution_count": 334,
   "id": "1b57cfce",
   "metadata": {},
   "outputs": [],
   "source": [
    "user = os.getenv(\"PGUSER\")\n",
    "password = os.getenv(\"PGPASSWORD\")\n",
    "host = os.getenv(\"PGHOST\")\n",
    "port = os.getenv(\"PGPORT\")\n",
    "database = os.getenv(\"PGDATABASE\")\n",
    "\n",
    "engine = create_engine(f'postgresql+psycopg2://{user}:{password}@{host}:{port}/{database}')"
   ]
  },
  {
   "cell_type": "code",
   "execution_count": 335,
   "id": "1ec2b9ca",
   "metadata": {},
   "outputs": [
    {
     "data": {
      "text/plain": [
       "(1648, 23)"
      ]
     },
     "execution_count": 335,
     "metadata": {},
     "output_type": "execute_result"
    }
   ],
   "source": [
    "def import_table_to_dataframe(table_name):\n",
    "    query = f\"SELECT * FROM {table_name}\"\n",
    "    df = pd.read_sql(query, engine)\n",
    "    return df\n",
    "\n",
    "data_clean = import_table_to_dataframe(\"immo\")\n",
    "data_clean.shape"
   ]
  },
  {
   "cell_type": "code",
   "execution_count": 336,
   "id": "7be2c6b0",
   "metadata": {},
   "outputs": [],
   "source": [
    "@st.cache_resource  # cache la ressource dans Streamlit pour accélérer\n",
    "def load_model():\n",
    "    model = joblib.load('model.pkl')\n",
    "    return model\n",
    "\n",
    "model = load_model()"
   ]
  },
  {
   "cell_type": "code",
   "execution_count": 337,
   "id": "a9f1ae3e",
   "metadata": {},
   "outputs": [
    {
     "name": "stdout",
     "output_type": "stream",
     "text": [
      "Pipeline(steps=[('model',\n",
      "                 TransformedTargetRegressor(func=<ufunc 'log1p'>,\n",
      "                                            inverse_func=<ufunc 'expm1'>,\n",
      "                                            regressor=GradientBoostingRegressor(learning_rate=0.05,\n",
      "                                                                                min_samples_split=5,\n",
      "                                                                                n_estimators=200,\n",
      "                                                                                random_state=42,\n",
      "                                                                                subsample=0.8)))])\n"
     ]
    }
   ],
   "source": [
    "print(model)"
   ]
  },
  {
   "cell_type": "markdown",
   "id": "31c07297",
   "metadata": {},
   "source": [
    "On choisit une ligne au dans notre dataset"
   ]
  },
  {
   "cell_type": "code",
   "execution_count": 338,
   "id": "a8833140",
   "metadata": {},
   "outputs": [],
   "source": [
    "n=78"
   ]
  },
  {
   "cell_type": "code",
   "execution_count": 339,
   "id": "249d6d13",
   "metadata": {},
   "outputs": [
    {
     "name": "stdout",
     "output_type": "stream",
     "text": [
      "Prediction : 1454613.17, Réalité : 1580000.00 difference: -125386.83\n"
     ]
    }
   ],
   "source": [
    "test_array = data_clean.loc[[n], ['nb_tot', 'ville_encoded', 'ville_encoded_m2', 'Ascenseur', 'surface_area']]\n",
    "\n",
    "# Faire la prédiction\n",
    "prediction = model.predict(test_array)\n",
    "\n",
    "# Afficher la prédiction et la réalité correspondante\n",
    "print(f\"Prediction : {prediction[0]:.2f}, Réalité : {data_clean.loc[n, 'price']:.2f} difference: {prediction[0]-data_clean.loc[n, 'price']:.2f}\")"
   ]
  },
  {
   "cell_type": "markdown",
   "id": "09c3def9",
   "metadata": {},
   "source": [
    "On obtient la prévision et la vraie valeure ainsi que la différence"
   ]
  }
 ],
 "metadata": {
  "kernelspec": {
   "display_name": "Python 3",
   "language": "python",
   "name": "python3"
  },
  "language_info": {
   "codemirror_mode": {
    "name": "ipython",
    "version": 3
   },
   "file_extension": ".py",
   "mimetype": "text/x-python",
   "name": "python",
   "nbconvert_exporter": "python",
   "pygments_lexer": "ipython3",
   "version": "3.13.5"
  }
 },
 "nbformat": 4,
 "nbformat_minor": 5
}
