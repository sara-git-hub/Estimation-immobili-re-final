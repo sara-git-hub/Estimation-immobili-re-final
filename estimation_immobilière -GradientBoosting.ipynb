{
 "cells": [
  {
   "cell_type": "markdown",
   "id": "b583e7a5",
   "metadata": {},
   "source": [
    "# Gradient Boosting"
   ]
  },
  {
   "cell_type": "markdown",
   "id": "1dfc1fb6",
   "metadata": {},
   "source": [
    "## Import depuis sql"
   ]
  },
  {
   "cell_type": "code",
   "execution_count": 17,
   "id": "2e02f6f4",
   "metadata": {},
   "outputs": [],
   "source": [
    "import pandas as pd\n",
    "import numpy as np\n",
    "import matplotlib.pyplot as plt\n",
    "import seaborn as sns\n",
    "from sklearn.preprocessing import MinMaxScaler, StandardScaler\n",
    "from sklearn.model_selection import train_test_split, cross_validate, GridSearchCV, RandomizedSearchCV, KFold\n",
    "from sklearn.linear_model import LinearRegression\n",
    "from sklearn.ensemble import RandomForestClassifier, GradientBoostingRegressor,RandomForestRegressor\n",
    "from sklearn.svm import SVR\n",
    "from sklearn.metrics import mean_squared_error, mean_absolute_error, r2_score\n",
    "from sklearn.pipeline import Pipeline\n",
    "from sklearn.preprocessing import FunctionTransformer\n",
    "from sklearn.compose import TransformedTargetRegressor\n",
    "from sklearn.linear_model import ElasticNet,  Ridge, Lasso\n",
    "from sklearn.model_selection import learning_curve\n",
    "import joblib"
   ]
  },
  {
   "cell_type": "code",
   "execution_count": 18,
   "id": "d8c767f5",
   "metadata": {},
   "outputs": [],
   "source": [
    "import psycopg2\n",
    "from psycopg2 import sql\n",
    "from dotenv import load_dotenv\n",
    "from sqlalchemy import create_engine\n",
    "import os"
   ]
  },
  {
   "cell_type": "code",
   "execution_count": 19,
   "id": "f0f478f5",
   "metadata": {},
   "outputs": [
    {
     "data": {
      "text/plain": [
       "True"
      ]
     },
     "execution_count": 19,
     "metadata": {},
     "output_type": "execute_result"
    }
   ],
   "source": [
    "load_dotenv()"
   ]
  },
  {
   "cell_type": "code",
   "execution_count": 20,
   "id": "eea7199c",
   "metadata": {},
   "outputs": [],
   "source": [
    "user = os.getenv(\"PGUSER\")\n",
    "password = os.getenv(\"PGPASSWORD\")\n",
    "host = os.getenv(\"PGHOST\")\n",
    "port = os.getenv(\"PGPORT\")\n",
    "database = os.getenv(\"PGDATABASE\")\n",
    "\n",
    "engine = create_engine(f'postgresql+psycopg2://{user}:{password}@{host}:{port}/{database}')"
   ]
  },
  {
   "cell_type": "code",
   "execution_count": 21,
   "id": "a4a3f463",
   "metadata": {},
   "outputs": [
    {
     "name": "stdout",
     "output_type": "stream",
     "text": [
      "       price    city_name  salon  nb_rooms  nb_baths  surface_area  Ascenseur  \\\n",
      "0  2000000.0   Casablanca    1.0       2.0       2.0         168.0          1   \n",
      "1  1195000.0   Casablanca    1.0       2.0       2.0          98.0          1   \n",
      "2  1350000.0  Dar Bouazza    1.0       2.0       2.0          81.0          1   \n",
      "3   900000.0   Casablanca    1.0       1.0       1.0          56.0          1   \n",
      "4  3100000.0        Rabat    2.0       3.0       2.0         200.0          1   \n",
      "\n",
      "   Balcon  Chauffage  Climatisation  ...  Meublé  Parking  Sécurité  Terrasse  \\\n",
      "0       1          0              0  ...       0        1         0         1   \n",
      "1       1          1              1  ...       0        1         0         0   \n",
      "2       1          1              1  ...       0        1         1         1   \n",
      "3       0          1              1  ...       1        1         1         1   \n",
      "4       1          0              0  ...       0        1         1         0   \n",
      "\n",
      "   ville_encoded  ville_nb  equipement_tot  nb_tot  ville_encoded_m2  \\\n",
      "0   1.220299e+06       588               2     5.0      12232.448312   \n",
      "1   1.220299e+06       588               3     5.0      12232.448312   \n",
      "2   1.260745e+06        15               3     5.0      12398.048992   \n",
      "3   1.220299e+06       588               2     3.0      12232.448312   \n",
      "4   1.641735e+06        81               2     7.0      14632.423000   \n",
      "\n",
      "   log_price  \n",
      "0  14.508658  \n",
      "1  13.993657  \n",
      "2  14.115615  \n",
      "3  13.710150  \n",
      "4  14.946913  \n",
      "\n",
      "[5 rows x 23 columns]\n"
     ]
    }
   ],
   "source": [
    "def import_table_to_dataframe(table_name):\n",
    "    query = f\"SELECT * FROM {table_name}\"\n",
    "    df = pd.read_sql(query, engine)\n",
    "    return df\n",
    "\n",
    "data_clean = import_table_to_dataframe(\"immo\")\n",
    "print(data_clean.head())"
   ]
  },
  {
   "cell_type": "markdown",
   "id": "ecaa88dc",
   "metadata": {},
   "source": [
    "## Sélection des variables explicatives"
   ]
  },
  {
   "cell_type": "code",
   "execution_count": 22,
   "id": "e65bc74a",
   "metadata": {},
   "outputs": [],
   "source": [
    "colonnes_selectionnees=['nb_tot', 'ville_encoded', 'ville_encoded_m2', 'Ascenseur', 'surface_area']"
   ]
  },
  {
   "cell_type": "markdown",
   "id": "4b00c68e",
   "metadata": {},
   "source": [
    "Les colonnes ont été selectionnée par rapport a la correlation au prix dans un premier temps.\n",
    "La colonne surface_area presente une faible correlation au prix aprés que les champs manquants du prix ont été rempli avec les mediane par ville.\n",
    "Je l'ai selectionné car la correlation ne capture que la relation lineaire et peut manquer une relation non linéaire.\n",
    "Par la suite les features importance calculé plus bas nous renseigne sur les colonnes les plus impactante pour le modèle et nous permettent de faire une selection finale."
   ]
  },
  {
   "cell_type": "markdown",
   "id": "9a9a1274",
   "metadata": {},
   "source": [
    "## Séparation des données"
   ]
  },
  {
   "cell_type": "code",
   "execution_count": 23,
   "id": "4607b9ad",
   "metadata": {},
   "outputs": [
    {
     "name": "stderr",
     "output_type": "stream",
     "text": [
      "C:\\Users\\lenovo\\AppData\\Local\\Temp\\ipykernel_13784\\3162804794.py:5: FutureWarning: Series.ravel is deprecated. The underlying array is already 1D, so ravel is not necessary.  Use `to_numpy()` for conversion to a numpy array instead.\n",
      "  y_train=y_train.ravel()\n"
     ]
    },
    {
     "data": {
      "text/plain": [
       "((1318, 5), (1318,))"
      ]
     },
     "execution_count": 23,
     "metadata": {},
     "output_type": "execute_result"
    }
   ],
   "source": [
    "X=data_clean[colonnes_selectionnees]\n",
    "y=data_clean['price']\n",
    "\n",
    "X_train, X_test, y_train, y_test=train_test_split(X, y,test_size=0.20,random_state=42)\n",
    "y_train=y_train.ravel()\n",
    "X_train.shape, y_train.shape"
   ]
  },
  {
   "cell_type": "markdown",
   "id": "b0fae429",
   "metadata": {},
   "source": [
    "### Gradient Boosting"
   ]
  },
  {
   "cell_type": "markdown",
   "id": "021a3baa",
   "metadata": {},
   "source": [
    "Gradient boosting avec log-transformation"
   ]
  },
  {
   "cell_type": "code",
   "execution_count": 24,
   "id": "78bd6067",
   "metadata": {},
   "outputs": [],
   "source": [
    "pipeline_gbm = Pipeline([\n",
    "    ('model', TransformedTargetRegressor(\n",
    "        regressor=GradientBoostingRegressor(random_state=42),\n",
    "        func=np.log1p,\n",
    "        inverse_func=np.expm1\n",
    "    ))\n",
    "])"
   ]
  },
  {
   "cell_type": "markdown",
   "id": "ea86cea6",
   "metadata": {},
   "source": [
    "On utilise le gridsearch avec cross-validation pour selectionner les meilleurs paramétres pour le modèle"
   ]
  },
  {
   "cell_type": "code",
   "execution_count": 25,
   "id": "2dbfce51",
   "metadata": {},
   "outputs": [],
   "source": [
    "param_grid = {\n",
    "    'model__regressor__n_estimators': [100, 200],\n",
    "    'model__regressor__learning_rate': [0.05, 0.1],\n",
    "    'model__regressor__max_depth': [3, 5, 7],\n",
    "    'model__regressor__min_samples_split': [2, 5],\n",
    "    'model__regressor__min_samples_leaf': [1, 2],\n",
    "    'model__regressor__subsample': [0.8, 1.0]\n",
    "}"
   ]
  },
  {
   "cell_type": "code",
   "execution_count": 26,
   "id": "4bf0da1d",
   "metadata": {},
   "outputs": [],
   "source": [
    "\n",
    "grid_search_gbm = GridSearchCV(\n",
    "    pipeline_gbm,\n",
    "    param_grid=param_grid,\n",
    "    scoring='r2',\n",
    "    cv=3,\n",
    "    n_jobs=-1,\n",
    "    verbose=2,\n",
    "    error_score='raise'\n",
    ")"
   ]
  },
  {
   "cell_type": "markdown",
   "id": "7b075d78",
   "metadata": {},
   "source": [
    "Entrainement et selection du meilleure modèle"
   ]
  },
  {
   "cell_type": "code",
   "execution_count": 27,
   "id": "2d6c074d",
   "metadata": {},
   "outputs": [
    {
     "name": "stdout",
     "output_type": "stream",
     "text": [
      "Fitting 3 folds for each of 96 candidates, totalling 288 fits\n"
     ]
    },
    {
     "name": "stdout",
     "output_type": "stream",
     "text": [
      "Meilleurs hyperparamètres trouvés : {'model__regressor__learning_rate': 0.05, 'model__regressor__max_depth': 3, 'model__regressor__min_samples_leaf': 1, 'model__regressor__min_samples_split': 5, 'model__regressor__n_estimators': 200, 'model__regressor__subsample': 0.8}\n"
     ]
    }
   ],
   "source": [
    "grid_search_gbm.fit(X_train, y_train)\n",
    "\n",
    "print(\"Meilleurs hyperparamètres trouvés :\", grid_search_gbm.best_params_)\n",
    "best_model = grid_search_gbm.best_estimator_"
   ]
  },
  {
   "cell_type": "code",
   "execution_count": 28,
   "id": "654ca068",
   "metadata": {},
   "outputs": [
    {
     "name": "stdout",
     "output_type": "stream",
     "text": [
      "\n",
      "Performance sur jeu train :\n",
      "MSE  : 213937901224.464\n",
      "RMSE : 462534.216\n",
      "MAE  : 246609.549\n",
      "R²   : 0.653\n"
     ]
    }
   ],
   "source": [
    "# Évaluation finale train\n",
    "\n",
    "y_pred_t = best_model.predict(X_train)\n",
    "\n",
    "print(\"\\nPerformance sur jeu train :\")\n",
    "mse = mean_squared_error(y_train, y_pred_t)\n",
    "rmse = np.sqrt(mse)\n",
    "mae = mean_absolute_error(y_train, y_pred_t)\n",
    "r2 = r2_score(y_train, y_pred_t)\n",
    "\n",
    "print(f\"MSE  : {mse:.3f}\")\n",
    "print(f\"RMSE : {rmse:.3f}\")\n",
    "print(f\"MAE  : {mae:.3f}\")\n",
    "print(f\"R²   : {r2:.3f}\")"
   ]
  },
  {
   "cell_type": "code",
   "execution_count": 29,
   "id": "9af1fb36",
   "metadata": {},
   "outputs": [
    {
     "name": "stdout",
     "output_type": "stream",
     "text": [
      "\n",
      "Performance sur jeu test :\n",
      "MSE  : 211321322223.000\n",
      "RMSE : 459696.990\n",
      "MAE  : 273003.505\n",
      "R²   : 0.628\n"
     ]
    }
   ],
   "source": [
    "# Évaluation finale test\n",
    "\n",
    "y_pred = best_model.predict(X_test)\n",
    "\n",
    "print(\"\\nPerformance sur jeu test :\")\n",
    "mse = mean_squared_error(y_test, y_pred)\n",
    "rmse = np.sqrt(mse)\n",
    "mae = mean_absolute_error(y_test, y_pred)\n",
    "r2 = r2_score(y_test, y_pred)\n",
    "\n",
    "print(f\"MSE  : {mse:.3f}\")\n",
    "print(f\"RMSE : {rmse:.3f}\")\n",
    "print(f\"MAE  : {mae:.3f}\")\n",
    "print(f\"R²   : {r2:.3f}\")"
   ]
  },
  {
   "cell_type": "markdown",
   "id": "7c01a561",
   "metadata": {},
   "source": [
    "## Calcul et visualisation des feature_importances"
   ]
  },
  {
   "cell_type": "code",
   "execution_count": 30,
   "id": "bbeec36c",
   "metadata": {},
   "outputs": [
    {
     "name": "stdout",
     "output_type": "stream",
     "text": [
      "<class 'sklearn.ensemble._gb.GradientBoostingRegressor'>\n",
      "            Feature  Importance\n",
      "4      surface_area    0.554531\n",
      "2  ville_encoded_m2    0.204357\n",
      "1     ville_encoded    0.092329\n",
      "3         Ascenseur    0.079428\n",
      "0            nb_tot    0.069356\n"
     ]
    },
    {
     "data": {
      "image/png": "[encoded data removed]",
      "text/plain": [
       "<Figure size 1000x600 with 1 Axes>"
      ]
     },
     "metadata": {},
     "output_type": "display_data"
    }
   ],
   "source": [
    "gbm_model = best_model.named_steps['model'].regressor_\n",
    "\n",
    "print(type(gbm_model))\n",
    "\n",
    "importances = gbm_model.feature_importances_\n",
    "feature_names = X_train.columns\n",
    "\n",
    "\n",
    "df_importance = pd.DataFrame({\n",
    "    'Feature': feature_names,\n",
    "    'Importance': importances\n",
    "}).sort_values(by='Importance', ascending=False)\n",
    "\n",
    "print(df_importance)\n",
    "\n",
    "plt.figure(figsize=(10, 6))\n",
    "plt.barh(df_importance['Feature'][::-1], df_importance['Importance'][::-1])\n",
    "plt.xlabel(\"Importance\")\n",
    "plt.title(\"Feature Importances - Gradient Boosting\")\n",
    "plt.tight_layout()\n",
    "plt.show()"
   ]
  },
  {
   "cell_type": "markdown",
   "id": "ee7442a0",
   "metadata": {},
   "source": [
    "## Visualisation de la courbe d'apprentissage"
   ]
  },
  {
   "cell_type": "code",
   "execution_count": 31,
   "id": "74e84424",
   "metadata": {},
   "outputs": [
    {
     "data": {
      "image/png": "[encoded data removed]",
      "text/plain": [
       "<Figure size 800x600 with 1 Axes>"
      ]
     },
     "metadata": {},
     "output_type": "display_data"
    }
   ],
   "source": [
    "train_sizes, train_scores, valid_scores = learning_curve(\n",
    "    estimator=best_model,\n",
    "    X=X_train,\n",
    "    y=y_train,\n",
    "    cv=3,\n",
    "    scoring='r2',\n",
    "    train_sizes=np.linspace(0.1, 1.0, 10),\n",
    "    shuffle=True,\n",
    "    random_state=42,\n",
    "    n_jobs=-1\n",
    ")\n",
    "\n",
    "\n",
    "train_scores_mean = np.mean(train_scores, axis=1)\n",
    "train_scores_std = np.std(train_scores, axis=1)\n",
    "valid_scores_mean = np.mean(valid_scores, axis=1)\n",
    "valid_scores_std = np.std(valid_scores, axis=1)\n",
    "\n",
    "plt.figure(figsize=(8, 6))\n",
    "plt.title(\"Courbe d'apprentissage - Gradient Boosting\")\n",
    "plt.xlabel(\"Taille du jeu d'entraînement\")\n",
    "plt.ylabel(\"Score R²\")\n",
    "plt.grid()\n",
    "\n",
    "plt.plot(train_sizes, train_scores_mean, 'o-', color=\"r\", label=\"Score entraînement\")\n",
    "plt.plot(train_sizes, valid_scores_mean, 'o-', color=\"g\", label=\"Score validation croisée\")\n",
    "plt.fill_between(train_sizes, train_scores_mean - train_scores_std,\n",
    "                 train_scores_mean + train_scores_std, alpha=0.1, color=\"r\")\n",
    "plt.fill_between(train_sizes, valid_scores_mean - valid_scores_std,\n",
    "                 valid_scores_mean + valid_scores_std, alpha=0.1, color=\"g\")\n",
    "plt.legend(loc=\"best\")\n",
    "plt.show()\n",
    "\n"
   ]
  },
  {
   "cell_type": "markdown",
   "id": "f60c9841",
   "metadata": {},
   "source": [
    "## Sauvegarde du modèle"
   ]
  },
  {
   "cell_type": "code",
   "execution_count": 32,
   "id": "ab2ac5b8",
   "metadata": {},
   "outputs": [
    {
     "name": "stdout",
     "output_type": "stream",
     "text": [
      "Modèle sauvegardé dans model.pkl\n"
     ]
    }
   ],
   "source": [
    "joblib.dump(best_model, 'model.pkl')\n",
    "print(\"Modèle sauvegardé dans model.pkl\")"
   ]
  }
 ],
 "metadata": {
  "kernelspec": {
   "display_name": "Python 3",
   "language": "python",
   "name": "python3"
  },
  "language_info": {
   "codemirror_mode": {
    "name": "ipython",
    "version": 3
   },
   "file_extension": ".py",
   "mimetype": "text/x-python",
   "name": "python",
   "nbconvert_exporter": "python",
   "pygments_lexer": "ipython3",
   "version": "3.13.5"
  }
 },
 "nbformat": 4,
 "nbformat_minor": 5
}
