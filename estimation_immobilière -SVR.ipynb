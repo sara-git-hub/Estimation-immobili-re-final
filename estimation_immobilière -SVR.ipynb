{
 "cells": [
  {
   "cell_type": "markdown",
   "id": "b583e7a5",
   "metadata": {},
   "source": [
    "# SVR"
   ]
  },
  {
   "cell_type": "markdown",
   "id": "1dfc1fb6",
   "metadata": {},
   "source": [
    "## Import de sql"
   ]
  },
  {
   "cell_type": "code",
   "execution_count": 15,
   "id": "2e02f6f4",
   "metadata": {},
   "outputs": [],
   "source": [
    "import pandas as pd\n",
    "import numpy as np\n",
    "import matplotlib.pyplot as plt\n",
    "import seaborn as sns\n",
    "from sklearn.preprocessing import MinMaxScaler, StandardScaler\n",
    "from sklearn.model_selection import train_test_split, cross_validate, GridSearchCV, RandomizedSearchCV, KFold\n",
    "from sklearn.linear_model import LinearRegression\n",
    "from sklearn.ensemble import RandomForestClassifier, GradientBoostingRegressor,RandomForestRegressor\n",
    "from sklearn.svm import SVR\n",
    "from sklearn.metrics import mean_squared_error, mean_absolute_error, r2_score\n",
    "from sklearn.pipeline import Pipeline\n",
    "from sklearn.preprocessing import FunctionTransformer\n",
    "from sklearn.compose import TransformedTargetRegressor\n",
    "from sklearn.linear_model import ElasticNet,  Ridge, Lasso\n",
    "import joblib"
   ]
  },
  {
   "cell_type": "code",
   "execution_count": 16,
   "id": "d8c767f5",
   "metadata": {},
   "outputs": [],
   "source": [
    "import psycopg2\n",
    "from psycopg2 import sql\n",
    "from dotenv import load_dotenv\n",
    "from sqlalchemy import create_engine\n",
    "import os"
   ]
  },
  {
   "cell_type": "code",
   "execution_count": 17,
   "id": "f0f478f5",
   "metadata": {},
   "outputs": [
    {
     "data": {
      "text/plain": [
       "True"
      ]
     },
     "execution_count": 17,
     "metadata": {},
     "output_type": "execute_result"
    }
   ],
   "source": [
    "load_dotenv()"
   ]
  },
  {
   "cell_type": "code",
   "execution_count": 18,
   "id": "eea7199c",
   "metadata": {},
   "outputs": [],
   "source": [
    "user = os.getenv(\"PGUSER\")\n",
    "password = os.getenv(\"PGPASSWORD\")\n",
    "host = os.getenv(\"PGHOST\")\n",
    "port = os.getenv(\"PGPORT\")\n",
    "database = os.getenv(\"PGDATABASE\")\n",
    "\n",
    "engine = create_engine(f'postgresql+psycopg2://{user}:{password}@{host}:{port}/{database}')"
   ]
  },
  {
   "cell_type": "code",
   "execution_count": 19,
   "id": "a4a3f463",
   "metadata": {},
   "outputs": [
    {
     "name": "stdout",
     "output_type": "stream",
     "text": [
      "       price    city_name  salon  nb_rooms  nb_baths  surface_area  Ascenseur  \\\n",
      "0  2000000.0   Casablanca    1.0       2.0       2.0         168.0          1   \n",
      "1  1195000.0   Casablanca    1.0       2.0       2.0          98.0          1   \n",
      "2  1350000.0  Dar Bouazza    1.0       2.0       2.0          81.0          1   \n",
      "3   900000.0   Casablanca    1.0       1.0       1.0          56.0          1   \n",
      "4  3100000.0        Rabat    2.0       3.0       2.0         200.0          1   \n",
      "\n",
      "   Balcon  Chauffage  Climatisation  ...  Meublé  Parking  Sécurité  Terrasse  \\\n",
      "0       1          0              0  ...       0        1         0         1   \n",
      "1       1          1              1  ...       0        1         0         0   \n",
      "2       1          1              1  ...       0        1         1         1   \n",
      "3       0          1              1  ...       1        1         1         1   \n",
      "4       1          0              0  ...       0        1         1         0   \n",
      "\n",
      "   ville_encoded  ville_nb  equipement_tot  nb_tot  ville_encoded_m2  \\\n",
      "0   1.220299e+06       588               2     5.0      12232.448312   \n",
      "1   1.220299e+06       588               3     5.0      12232.448312   \n",
      "2   1.260745e+06        15               3     5.0      12398.048992   \n",
      "3   1.220299e+06       588               2     3.0      12232.448312   \n",
      "4   1.641735e+06        81               2     7.0      14632.423000   \n",
      "\n",
      "   log_price  \n",
      "0  14.508658  \n",
      "1  13.993657  \n",
      "2  14.115615  \n",
      "3  13.710150  \n",
      "4  14.946913  \n",
      "\n",
      "[5 rows x 23 columns]\n"
     ]
    }
   ],
   "source": [
    "def import_table_to_dataframe(table_name):\n",
    "    query = f\"SELECT * FROM {table_name}\"\n",
    "    df = pd.read_sql(query, engine)\n",
    "    return df\n",
    "\n",
    "data_clean = import_table_to_dataframe(\"immo\")\n",
    "print(data_clean.head())"
   ]
  },
  {
   "cell_type": "markdown",
   "id": "ecaa88dc",
   "metadata": {},
   "source": [
    "## Sélection des variables explicatives"
   ]
  },
  {
   "cell_type": "code",
   "execution_count": 20,
   "id": "e65bc74a",
   "metadata": {},
   "outputs": [],
   "source": [
    "colonnes_selectionnees=['surface_area', 'ville_encoded', 'equipement_tot', 'nb_tot', 'Ascenseur']"
   ]
  },
  {
   "cell_type": "markdown",
   "id": "9a9a1274",
   "metadata": {},
   "source": [
    "## Séparation des données"
   ]
  },
  {
   "cell_type": "code",
   "execution_count": 21,
   "id": "4607b9ad",
   "metadata": {},
   "outputs": [
    {
     "name": "stderr",
     "output_type": "stream",
     "text": [
      "C:\\Users\\lenovo\\AppData\\Local\\Temp\\ipykernel_6632\\3320900413.py:5: FutureWarning: Series.ravel is deprecated. The underlying array is already 1D, so ravel is not necessary.  Use `to_numpy()` for conversion to a numpy array instead.\n",
      "  y_train=y_train.ravel()\n"
     ]
    },
    {
     "data": {
      "text/plain": [
       "((1318, 5), (1318,))"
      ]
     },
     "execution_count": 21,
     "metadata": {},
     "output_type": "execute_result"
    }
   ],
   "source": [
    "X=data_clean[colonnes_selectionnees]\n",
    "y=data_clean['price']\n",
    "\n",
    "X_train, X_test, y_train, y_test=train_test_split(X, y,test_size=0.20,random_state=42 )\n",
    "y_train=y_train.ravel()\n",
    "X_train.shape, y_train.shape"
   ]
  },
  {
   "cell_type": "markdown",
   "id": "b0fae429",
   "metadata": {},
   "source": [
    "### SVR"
   ]
  },
  {
   "cell_type": "code",
   "execution_count": 22,
   "id": "78bd6067",
   "metadata": {},
   "outputs": [],
   "source": [
    "pipeline_svr = Pipeline([\n",
    "    ('scaler', StandardScaler()),\n",
    "    ('model', TransformedTargetRegressor(\n",
    "        regressor=SVR(),\n",
    "        func=np.log1p,\n",
    "        inverse_func=np.expm1\n",
    "    ))\n",
    "])"
   ]
  },
  {
   "cell_type": "code",
   "execution_count": null,
   "id": "2dbfce51",
   "metadata": {},
   "outputs": [],
   "source": [
    "param_grid = {\n",
    "    'model__regressor__kernel': ['rbf'],\n",
    "    'model__regressor__C': [0.1, 1, 10, 100],\n",
    "    'model__regressor__epsilon': [0.01, 0.1, 0.2],\n",
    "    'model__regressor__gamma': ['scale', 'auto']\n",
    "}"
   ]
  },
  {
   "cell_type": "code",
   "execution_count": 24,
   "id": "4bf0da1d",
   "metadata": {},
   "outputs": [],
   "source": [
    "grid_search_svr = GridSearchCV(\n",
    "    pipeline_svr,\n",
    "    param_grid=param_grid,\n",
    "    cv=3,\n",
    "    scoring='r2',\n",
    "    n_jobs=-1,\n",
    "    verbose=2,\n",
    "    error_score='raise' \n",
    ")"
   ]
  },
  {
   "cell_type": "code",
   "execution_count": 25,
   "id": "2d6c074d",
   "metadata": {},
   "outputs": [
    {
     "name": "stdout",
     "output_type": "stream",
     "text": [
      "Fitting 3 folds for each of 24 candidates, totalling 72 fits\n",
      "Meilleurs hyperparamètres : {'model__regressor__C': 1, 'model__regressor__epsilon': 0.1, 'model__regressor__gamma': 'scale', 'model__regressor__kernel': 'rbf'}\n"
     ]
    }
   ],
   "source": [
    "grid_search_svr.fit(X_train, y_train)\n",
    "\n",
    "print(\"Meilleurs hyperparamètres :\", grid_search_svr.best_params_)\n"
   ]
  },
  {
   "cell_type": "code",
   "execution_count": 26,
   "id": "9d1006a6",
   "metadata": {},
   "outputs": [
    {
     "name": "stdout",
     "output_type": "stream",
     "text": [
      "\n",
      "Performance sur jeu train :\n",
      "MSE  : 345101676966.109\n",
      "RMSE : 587453.553\n",
      "MAE  : 327197.728\n",
      "R²   : 0.440\n"
     ]
    }
   ],
   "source": [
    "# Évaluation sur le jeu train\n",
    "best_model_svr = grid_search_svr.best_estimator_\n",
    "\n",
    "y_pred_t = best_model_svr.predict(X_train)\n",
    "\n",
    "mse_train = mean_squared_error(y_train, y_pred_t)\n",
    "rmse_train = np.sqrt(mse_train)\n",
    "mae_train = mean_absolute_error(y_train, y_pred_t)\n",
    "r2_train = r2_score(y_train, y_pred_t)\n",
    "\n",
    "print(\"\\nPerformance sur jeu train :\")\n",
    "print(f\"MSE  : {mse_train:.3f}\")\n",
    "print(f\"RMSE : {rmse_train:.3f}\")\n",
    "print(f\"MAE  : {mae_train:.3f}\")\n",
    "print(f\"R²   : {r2_train:.3f}\")"
   ]
  },
  {
   "cell_type": "code",
   "execution_count": 27,
   "id": "9af1fb36",
   "metadata": {},
   "outputs": [
    {
     "name": "stdout",
     "output_type": "stream",
     "text": [
      "\n",
      "Performance sur jeu test :\n",
      "MSE  : 336356529226.751\n",
      "RMSE : 579962.524\n",
      "MAE  : 345829.901\n",
      "R²   : 0.408\n"
     ]
    }
   ],
   "source": [
    "# Évaluation sur le jeu test\n",
    "\n",
    "y_pred = best_model_svr.predict(X_test)\n",
    "\n",
    "mse_test = mean_squared_error(y_test, y_pred)\n",
    "rmse_test = np.sqrt(mse_test)\n",
    "mae_test = mean_absolute_error(y_test, y_pred)\n",
    "r2_test = r2_score(y_test, y_pred)\n",
    "\n",
    "print(\"\\nPerformance sur jeu test :\")\n",
    "print(f\"MSE  : {mse_test:.3f}\")\n",
    "print(f\"RMSE : {rmse_test:.3f}\")\n",
    "print(f\"MAE  : {mae_test:.3f}\")\n",
    "print(f\"R²   : {r2_test:.3f}\")"
   ]
  }
 ],
 "metadata": {
  "kernelspec": {
   "display_name": "Python 3",
   "language": "python",
   "name": "python3"
  },
  "language_info": {
   "codemirror_mode": {
    "name": "ipython",
    "version": 3
   },
   "file_extension": ".py",
   "mimetype": "text/x-python",
   "name": "python",
   "nbconvert_exporter": "python",
   "pygments_lexer": "ipython3",
   "version": "3.13.5"
  }
 },
 "nbformat": 4,
 "nbformat_minor": 5
}
